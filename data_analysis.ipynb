{
 "cells": [
  {
   "cell_type": "code",
   "execution_count": 5,
   "metadata": {},
   "outputs": [],
   "source": [
    "import pandas as pd\n",
    "from datasets import load_dataset\n",
    "import numpy as np\n",
    "import matplotlib.pyplot as plt"
   ]
  },
  {
   "cell_type": "code",
   "execution_count": 6,
   "metadata": {},
   "outputs": [
    {
     "name": "stdout",
     "output_type": "stream",
     "text": [
      "125\n",
      "<class 'str'>\n"
     ]
    }
   ],
   "source": [
    "file_path = './data/Aug24-Assignmen1-Dataset1.xlsx'\n",
    "train_df = pd.read_excel(file_path)\n",
    "\n",
    "train_df.columns = ['label','text']\n",
    "\n",
    "file_path = './data/Aug24-Assignment1-Validation-Dataset1.xlsx'\n",
    "val_df = pd.read_excel(file_path)\n",
    "\n",
    "val_df.columns = ['label','text']\n",
    "\n",
    "for i in range(len(train_df)):\n",
    "    if (isinstance(train_df['text'][i], float)):\n",
    "        print(i)\n",
    "print(type(train_df['text'][0]))\n",
    "\n",
    "train_df['text_len'] = train_df['text'].apply(lambda x: len(x.split()) if isinstance(x, str) else 0)\n",
    "val_df['text_len'] = val_df['text'].apply(lambda x: len(x.split()))"
   ]
  },
  {
   "cell_type": "code",
   "execution_count": 7,
   "metadata": {},
   "outputs": [],
   "source": [
    "sst2_data = load_dataset(\"sst2\")\n",
    "\n",
    "train_sst_df = pd.DataFrame(sst2_data['train'])\n",
    "val_sst_df = pd.DataFrame(sst2_data['validation'])\n",
    "test_sst_df = pd.read_csv('./data/SST2_TestData.csv')"
   ]
  },
  {
   "cell_type": "code",
   "execution_count": 8,
   "metadata": {},
   "outputs": [],
   "source": [
    "train_sst_df.columns = ['idx','text','label']\n",
    "val_sst_df.columns = ['idx','text','label']\n",
    "test_sst_df.columns = ['label','text']\n",
    "\n",
    "\n",
    "train_sst_df['text_len'] = train_sst_df['text'].apply(lambda x: len(x.split()))\n",
    "val_sst_df['text_len'] = val_sst_df['text'].apply(lambda x: len(x.split()))\n",
    "test_sst_df['text_len'] = test_sst_df['text'].apply(lambda x: len(x.split()))"
   ]
  },
  {
   "cell_type": "code",
   "execution_count": 9,
   "metadata": {},
   "outputs": [
    {
     "data": {
      "image/png": "[encoded data removed]",
      "text/plain": [
       "<Figure size 1200x600 with 1 Axes>"
      ]
     },
     "metadata": {},
     "output_type": "display_data"
    }
   ],
   "source": [
    "# For the Aug24-Assignmen1-Dataset1.xlsx\n",
    "\n",
    "train_classes = train_df['label'].value_counts()\n",
    "valid_classes = val_df['label'].value_counts()\n",
    "\n",
    "\n",
    "# Create an index for each class\n",
    "x = np.arange(len(train_classes))\n",
    "\n",
    "# Define bar width. We'll need this to offset the second bar.\n",
    "bar_width = 0.4\n",
    "\n",
    "plt.figure(figsize=(12, 6))\n",
    "\n",
    "# Note we add the `bar_width` parameter to the below method, so the validation bars align next to the training bars.\n",
    "plt.bar(x, train_classes.values, width=bar_width, label='Train')\n",
    "plt.bar(x + bar_width, valid_classes.values, width=bar_width, label='Validation')\n",
    "\n",
    "# Fix the x-axes.\n",
    "plt.xticks(x + bar_width / 2, train_classes.index)\n",
    "\n",
    "plt.title('Class distribution in Train and Validation data')\n",
    "plt.xlabel('Class')\n",
    "plt.ylabel('Frequency')\n",
    "plt.legend()\n",
    "\n",
    "plt.show()"
   ]
  },
  {
   "cell_type": "code",
   "execution_count": 10,
   "metadata": {},
   "outputs": [
    {
     "name": "stdout",
     "output_type": "stream",
     "text": [
      "Total lenght of the training data:  3999\n",
      "Training data class distribution\n",
      "train classes:  label\n",
      "5    3204\n",
      "4     433\n",
      "1     194\n",
      "3     106\n",
      "2      62\n",
      "Name: count, dtype: int64\n",
      "Max text length in the training data:  1037\n",
      "Min text length in the training data:  0\n",
      "Mean text length in the training data:  49.65716429107277\n",
      "Total lenght of the validation data:  802\n",
      "Validation data class distribution\n",
      "valid classes:  label\n",
      "5    641\n",
      "4     87\n",
      "1     39\n",
      "3     22\n",
      "2     13\n",
      "Name: count, dtype: int64\n",
      "Max text length in the validation data:  1444\n",
      "Min text length in the validation data:  30\n",
      "Mean text length in the validation data:  133.2431421446384\n"
     ]
    }
   ],
   "source": [
    "print(\"Total lenght of the training data: \", len(train_df))\n",
    "print(\"Training data class distribution\")\n",
    "print(\"train classes: \", train_classes)\n",
    "\n",
    "print(\"Max text length in the training data: \", train_df['text_len'].max())\n",
    "print(\"Min text length in the training data: \", train_df['text_len'].min())\n",
    "print(\"Mean text length in the training data: \", train_df['text_len'].mean())\n",
    "\n",
    "print(\"Total lenght of the validation data: \", len(val_df))\n",
    "print(\"Validation data class distribution\")\n",
    "print(\"valid classes: \", valid_classes)\n",
    "\n",
    "\n",
    "print(\"Max text length in the validation data: \", val_df['text_len'].max())\n",
    "print(\"Min text length in the validation data: \", val_df['text_len'].min())\n",
    "print(\"Mean text length in the validation data: \", val_df['text_len'].mean())"
   ]
  },
  {
   "cell_type": "code",
   "execution_count": 11,
   "metadata": {},
   "outputs": [
    {
     "name": "stdout",
     "output_type": "stream",
     "text": [
      "Percentage of each class in the training data\n",
      "label\n",
      "5    0.801200\n",
      "4    0.108277\n",
      "1    0.048512\n",
      "3    0.026507\n",
      "2    0.015504\n",
      "Name: count, dtype: float64\n",
      "Percentage of each class in the validation data\n",
      "label\n",
      "5    0.799252\n",
      "4    0.108479\n",
      "1    0.048628\n",
      "3    0.027431\n",
      "2    0.016209\n",
      "Name: count, dtype: float64\n"
     ]
    }
   ],
   "source": [
    "#percentage of each class in the training data\n",
    "print(\"Percentage of each class in the training data\")\n",
    "print(train_classes/len(train_df))\n",
    "\n",
    "#percentage of each class in the validation data\n",
    "print(\"Percentage of each class in the validation data\")\n",
    "print(valid_classes/len(val_df))"
   ]
  },
  {
   "cell_type": "code",
   "execution_count": 12,
   "metadata": {},
   "outputs": [
    {
     "name": "stdout",
     "output_type": "stream",
     "text": [
      "Total lenght of the training data:  67349\n",
      "Training data class distribution\n",
      "train classes:  label\n",
      "1    37569\n",
      "0    29780\n",
      "Name: count, dtype: int64\n",
      "Maximum text length in the training data:  52\n",
      "Minimum text length in the training data:  1\n",
      "Mean text length in the training data:  9.409553222765\n",
      "Median text length in the training data:  7.0\n",
      "Total lenght of the validation data:  872\n",
      "Validation data class distribution\n",
      "valid classes:  label\n",
      "1    444\n",
      "0    428\n",
      "Name: count, dtype: int64\n",
      "Max text length in the validation data:  47\n",
      "Min text length in the validation data:  2\n",
      "Mean text length in the validation data:  19.548165137614678\n",
      "Median text length in the validation data:  19.0\n",
      "Total lenght of the test data:  1820\n",
      "Test data class distribution\n",
      "test classes:  label\n",
      "0    911\n",
      "1    909\n",
      "Name: count, dtype: int64\n",
      "Max text length in the test data:  56\n",
      "Min text length in the test data:  2\n",
      "Mean text length in the test data:  19.248901098901097\n",
      "Median text length in the test data:  18.0\n"
     ]
    }
   ],
   "source": [
    "# for the sst2 dataset\n",
    "\n",
    "train_classes = train_sst_df['label'].value_counts()\n",
    "valid_classes = val_sst_df['label'].value_counts()\n",
    "test_classes = test_sst_df['label'].value_counts()\n",
    "\n",
    "print(\"Total lenght of the training data: \", len(train_sst_df))\n",
    "print(\"Training data class distribution\")\n",
    "print(\"train classes: \", train_classes)\n",
    "\n",
    "print(\"Maximum text length in the training data: \", train_sst_df['text_len'].max())\n",
    "print(\"Minimum text length in the training data: \", train_sst_df['text_len'].min())\n",
    "print(\"Mean text length in the training data: \", train_sst_df['text_len'].mean())\n",
    "print(\"Median text length in the training data: \", train_sst_df['text_len'].median())\n",
    "\n",
    "print(\"Total lenght of the validation data: \", len(val_sst_df))\n",
    "print(\"Validation data class distribution\")\n",
    "print(\"valid classes: \", valid_classes)\n",
    "\n",
    "print(\"Max text length in the validation data: \", val_sst_df['text_len'].max())\n",
    "print(\"Min text length in the validation data: \", val_sst_df['text_len'].min())\n",
    "print(\"Mean text length in the validation data: \", val_sst_df['text_len'].mean())\n",
    "print(\"Median text length in the validation data: \", val_sst_df['text_len'].median())\n",
    "\n",
    "print(\"Total lenght of the test data: \", len(test_sst_df))\n",
    "print(\"Test data class distribution\")\n",
    "print(\"test classes: \", test_classes)\n",
    "\n",
    "print(\"Max text length in the test data: \", test_sst_df['text_len'].max())\n",
    "print(\"Min text length in the test data: \", test_sst_df['text_len'].min())\n",
    "print(\"Mean text length in the test data: \", test_sst_df['text_len'].mean())\n",
    "print(\"Median text length in the test data: \", test_sst_df['text_len'].median())"
   ]
  },
  {
   "cell_type": "code",
   "execution_count": 13,
   "metadata": {},
   "outputs": [
    {
     "name": "stdout",
     "output_type": "stream",
     "text": [
      "Percentage of each class in the training data\n",
      "label\n",
      "1    0.557826\n",
      "0    0.442174\n",
      "Name: count, dtype: float64\n",
      "Percentage of each class in the validation data\n",
      "label\n",
      "1    0.509174\n",
      "0    0.490826\n",
      "Name: count, dtype: float64\n",
      "Percentage of each class in the test data\n",
      "label\n",
      "0    0.500549\n",
      "1    0.499451\n",
      "Name: count, dtype: float64\n"
     ]
    }
   ],
   "source": [
    "#percentage of each class in the training data\n",
    "print(\"Percentage of each class in the training data\")\n",
    "print(train_classes/len(train_sst_df))\n",
    "\n",
    "#percentage of each class in the validation data\n",
    "print(\"Percentage of each class in the validation data\")\n",
    "print(valid_classes/len(val_sst_df))\n",
    "\n",
    "#percentage of each class in the test\n",
    "print(\"Percentage of each class in the test data\")\n",
    "print(test_classes/len(test_sst_df))"
   ]
  }
 ],
 "metadata": {
  "kernelspec": {
   "display_name": "DLNLP_A1",
   "language": "python",
   "name": "python3"
  },
  "language_info": {
   "codemirror_mode": {
    "name": "ipython",
    "version": 3
   },
   "file_extension": ".py",
   "mimetype": "text/x-python",
   "name": "python",
   "nbconvert_exporter": "python",
   "pygments_lexer": "ipython3",
   "version": "3.11.0"
  }
 },
 "nbformat": 4,
 "nbformat_minor": 2
}
